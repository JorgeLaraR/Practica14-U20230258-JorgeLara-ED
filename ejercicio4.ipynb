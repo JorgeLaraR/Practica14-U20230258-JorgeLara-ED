{
 "cells": [
  {
   "cell_type": "code",
   "execution_count": null,
   "metadata": {},
   "outputs": [],
   "source": [
    "import re\n",
    "\n",
    "def en_ocurrencias(texto, palabra):\n",
    "    palabra = re.escape(palabra)\n",
    "\n",
    "    pa_palabra = re.compile(r'\\b' + palabra + r'\\b', re.IGNORECASE)\n",
    "    coincidencias_iterador = pa_palabra.finditer(texto)\n",
    "    ubicaciones_ocurrencias = [coincidencia.span() for coincidencia in coincidencias_iterador]\n",
    "    return ubicaciones_ocurrencias\n",
    "\n",
    "text1 = \"Este es un ejemplo de texto con una palabra especifica, esta es la palabra especifica, especifica\"\n",
    "\n",
    "buscar = \"especifica\"\n",
    "ocurrencias = en_ocurrencias(text1, buscar)\n",
    "\n",
    "print(f\"Ubicaciones de ocurrencias de '{buscar}': {ocurrencias}\")"
   ]
  }
 ],
 "metadata": {
  "language_info": {
   "name": "python"
  }
 },
 "nbformat": 4,
 "nbformat_minor": 2
}
