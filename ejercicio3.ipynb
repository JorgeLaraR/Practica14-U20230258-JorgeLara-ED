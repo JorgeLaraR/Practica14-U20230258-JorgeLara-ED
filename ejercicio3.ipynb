{
 "cells": [
  {
   "cell_type": "code",
   "execution_count": null,
   "metadata": {},
   "outputs": [],
   "source": [
    "import re \n",
    "\n",
    "def minusculas(texto):\n",
    "    pal_minusculas = re.compile(r'\\b[a-z]+\\b')\n",
    "    coincidencias = pal_minusculas.findall(texto)\n",
    "\n",
    "    return coincidencias\n",
    "\n",
    "text1 = \"Este es un ejemplo de texto con algunas PALABRAS en minusculas y mayusculas\"\n",
    "\n",
    "resultado = minusculas(text1)\n",
    "print(\"Palabras encontradas: \", resultado)"
   ]
  }
 ],
 "metadata": {
  "language_info": {
   "name": "python"
  }
 },
 "nbformat": 4,
 "nbformat_minor": 2
}
