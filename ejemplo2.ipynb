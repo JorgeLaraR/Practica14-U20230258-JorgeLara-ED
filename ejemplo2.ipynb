{
 "cells": [
  {
   "cell_type": "code",
   "execution_count": null,
   "metadata": {},
   "outputs": [
    {
     "ename": "",
     "evalue": "",
     "output_type": "error",
     "traceback": [
      "\u001b[1;31mFailed to start the Kernel. \n",
      "\u001b[1;31mCannot read properties of undefined (reading 'path'). \n",
      "\u001b[1;31mView Jupyter <a href='command:jupyter.viewOutput'>log</a> for further details."
     ]
    }
   ],
   "source": [
    "import re\n",
    "\n",
    "#patron para buscar una palabra que lleve \"Python\"\n",
    "pattern = re.compile(r'\\bpython\\w*', re.IGNORECASE)\n",
    "\n",
    "text ='Python es un lenguaje de programación poderoso.'\n",
    "resultado = pattern.search(text)\n",
    "\n",
    "if resultado:\n",
    "    print(f\"Coincidencia encontrada en cualquier lugar: {resultado.group()}\")\n",
    "else:\n",
    "    print(\"No hay coincidencias encontradas\")"
   ]
  }
 ],
 "metadata": {
  "kernelspec": {
   "display_name": "Python 3",
   "language": "python",
   "name": "python3"
  },
  "language_info": {
   "name": "python",
   "version": "3.11.1"
  }
 },
 "nbformat": 4,
 "nbformat_minor": 2
}
