{
 "cells": [
  {
   "cell_type": "code",
   "execution_count": null,
   "metadata": {},
   "outputs": [
    {
     "ename": "",
     "evalue": "",
     "output_type": "error",
     "traceback": [
      "\u001b[1;31mFailed to start the Kernel. \n",
      "\u001b[1;31mCannot read properties of undefined (reading 'path'). \n",
      "\u001b[1;31mView Jupyter <a href='command:jupyter.viewOutput'>log</a> for further details."
     ]
    }
   ],
   "source": [
    "import re\n",
    "\n",
    "#patron para buscar todas las palabras de 2 letras\"\n",
    "pattern = re.compile(r'\\b\\{2}\\b')\n",
    "\n",
    "text = \"hola, soy un texto con algunas palabras cortas\"\n",
    "resultado = pattern.findall(text)\n",
    "\n",
    "print(\"Todas las coincidencias encontradas: \")\n",
    "for palabra in resultado:\n",
    "    print(palabra)"
   ]
  }
 ],
 "metadata": {
  "kernelspec": {
   "display_name": "Python 3",
   "language": "python",
   "name": "python3"
  },
  "language_info": {
   "name": "python",
   "version": "3.11.1"
  }
 },
 "nbformat": 4,
 "nbformat_minor": 2
}
