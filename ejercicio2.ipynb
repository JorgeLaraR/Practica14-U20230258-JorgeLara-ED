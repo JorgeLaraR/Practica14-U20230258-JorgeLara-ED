{
 "cells": [
  {
   "cell_type": "code",
   "execution_count": null,
   "metadata": {},
   "outputs": [],
   "source": [
    "import re\n",
    "\n",
    "def fecha_valida(cadena):\n",
    "    patron_fecha = re.compile(r'\\b(?:0[1-9]|[12][0-9]|3[01])/(?:0[1-9]|1[0-2])/\\d{4}\\b')\n",
    "    coincidencia = patron_fecha.search(cadena)\n",
    "    return bool(coincidencia)\n",
    "\n",
    "text1 = \"La reunion sera el 20/11/2023 en la sala de conferencias UNIVO\"\n",
    "text2 = \"No hay nada\"\n",
    "resultado1 = fecha_valida(text1)\n",
    "resultado2 = fecha_valida(text2)\n",
    "\n",
    "print(resultado1)\n",
    "print(resultado2)"
   ]
  }
 ],
 "metadata": {
  "language_info": {
   "name": "python"
  }
 },
 "nbformat": 4,
 "nbformat_minor": 2
}
