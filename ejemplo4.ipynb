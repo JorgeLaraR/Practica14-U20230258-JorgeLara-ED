{
 "cells": [
  {
   "cell_type": "code",
   "execution_count": null,
   "metadata": {},
   "outputs": [],
   "source": [
    "import re\n",
    "\n",
    "#patron para encontar todas las direcciones de correo en un texto\"\n",
    "pattern = re.compile(r'\\b[A-Za-z0-9._%+-]+@[A-Za-z0-9.-]+\\.[A-Z|a-z]{2,}\\b')\n",
    "\n",
    "text = \"Contacta conmigo e correo@example.com o en otro.correo@dominio.com\"\n",
    "resultado = pattern.finditer(text)\n",
    "\n",
    "print(\"Direcciones de correo electronico encontrados:\")\n",
    "for match in resultado:\n",
    "    print(match.group())"
   ]
  }
 ],
 "metadata": {
  "language_info": {
   "name": "python"
  }
 },
 "nbformat": 4,
 "nbformat_minor": 2
}
