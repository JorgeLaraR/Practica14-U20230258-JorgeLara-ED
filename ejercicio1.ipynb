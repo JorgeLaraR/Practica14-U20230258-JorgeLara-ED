{
 "cells": [
  {
   "cell_type": "code",
   "execution_count": null,
   "metadata": {},
   "outputs": [],
   "source": [
    "import re\n",
    "\n",
    "def valido_empleado(cadena):\n",
    "    patron = re.compile(r'^EMP\\d{3}$')\n",
    "    resultado = patron.match(cadena)\n",
    "    return bool(resultado)\n",
    "\n",
    "codigo1 = \"EMP123\"\n",
    "codigo2 = \"EMP345\"\n",
    "codigo3 = \"EM123\" #No se acepta\n",
    "\n",
    "print(valido_empleado(codigo1))\n",
    "print(valido_empleado(codigo2))\n",
    "print(valido_empleado(codigo3)) #No se acepta"
   ]
  }
 ],
 "metadata": {
  "language_info": {
   "name": "python"
  }
 },
 "nbformat": 4,
 "nbformat_minor": 2
}
