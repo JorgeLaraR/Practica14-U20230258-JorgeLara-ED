{
 "cells": [
  {
   "cell_type": "code",
   "execution_count": null,
   "metadata": {},
   "outputs": [],
   "source": [
    "import re\n",
    "#Patrón para buscar un codigo postal de 5 digitos al principio de una cadena utilizando match\n",
    "\n",
    "pattern = re.compile(r'^\\d{5}\")\n",
    "\n",
    "text = \"12345 San Miguel, San Miguel\"\n",
    "resultado = pattern.match(text)\n",
    "\n",
    "if resultado:\n",
    "    print(f\"Coincidencia encontrada: {resultado.group()}\")\n",
    "else:\n",
    "    print(\"No hay coincidencias\")"
   ]
  }
 ],
 "metadata": {
  "language_info": {
   "name": "plaintext"
  },
  "orig_nbformat": 4
 },
 "nbformat": 4,
 "nbformat_minor": 2
}
